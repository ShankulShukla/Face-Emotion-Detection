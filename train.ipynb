{
 "cells": [
  {
   "cell_type": "code",
   "execution_count": 1,
   "metadata": {},
   "outputs": [],
   "source": [
    "import numpy as np\n",
    "import pandas as pd"
   ]
  },
  {
   "cell_type": "markdown",
   "metadata": {},
   "source": [
    "## Reading the extracted csv file"
   ]
  },
  {
   "cell_type": "code",
   "execution_count": 2,
   "metadata": {},
   "outputs": [],
   "source": [
    "df = pd.read_csv('fer2013/fer2013.csv')"
   ]
  },
  {
   "cell_type": "markdown",
   "metadata": {},
   "source": [
    "## Columns"
   ]
  },
  {
   "cell_type": "code",
   "execution_count": 3,
   "metadata": {},
   "outputs": [
    {
     "data": {
      "text/plain": [
       "Index(['emotion', 'pixels', 'Usage'], dtype='object')"
      ]
     },
     "execution_count": 3,
     "metadata": {},
     "output_type": "execute_result"
    }
   ],
   "source": [
    "df.columns"
   ]
  },
  {
   "cell_type": "markdown",
   "metadata": {},
   "source": [
    "### Dictionary of classes with their numeric representation"
   ]
  },
  {
   "cell_type": "code",
   "execution_count": 14,
   "metadata": {},
   "outputs": [],
   "source": [
    "dict = {0:'Angry', 1:'Disgust', 2:'Fear', 3:'Happy', 4:'Sad', 5:'Surprise', 6:'Neutral'}"
   ]
  },
  {
   "cell_type": "code",
   "execution_count": 6,
   "metadata": {},
   "outputs": [],
   "source": [
    "import matplotlib.pyplot as plt\n",
    "%matplotlib inline"
   ]
  },
  {
   "cell_type": "markdown",
   "metadata": {},
   "source": [
    "### Grouping using Usage column i.e, PrivateTest, PublicTest, Training data"
   ]
  },
  {
   "cell_type": "code",
   "execution_count": 7,
   "metadata": {},
   "outputs": [],
   "source": [
    "grp = df.groupby('Usage')"
   ]
  },
  {
   "cell_type": "code",
   "execution_count": 8,
   "metadata": {},
   "outputs": [
    {
     "data": {
      "text/plain": [
       "{'PrivateTest': Int64Index([32298, 32299, 32300, 32301, 32302, 32303, 32304, 32305, 32306,\n",
       "             32307,\n",
       "             ...\n",
       "             35877, 35878, 35879, 35880, 35881, 35882, 35883, 35884, 35885,\n",
       "             35886],\n",
       "            dtype='int64', length=3589),\n",
       " 'PublicTest': Int64Index([28709, 28710, 28711, 28712, 28713, 28714, 28715, 28716, 28717,\n",
       "             28718,\n",
       "             ...\n",
       "             32288, 32289, 32290, 32291, 32292, 32293, 32294, 32295, 32296,\n",
       "             32297],\n",
       "            dtype='int64', length=3589),\n",
       " 'Training': Int64Index([    0,     1,     2,     3,     4,     5,     6,     7,     8,\n",
       "                 9,\n",
       "             ...\n",
       "             28699, 28700, 28701, 28702, 28703, 28704, 28705, 28706, 28707,\n",
       "             28708],\n",
       "            dtype='int64', length=28709)}"
      ]
     },
     "execution_count": 8,
     "metadata": {},
     "output_type": "execute_result"
    }
   ],
   "source": [
    "grp.groups"
   ]
  },
  {
   "cell_type": "code",
   "execution_count": 9,
   "metadata": {},
   "outputs": [],
   "source": [
    "test=grp.get_group('PrivateTest')"
   ]
  },
  {
   "cell_type": "code",
   "execution_count": 10,
   "metadata": {},
   "outputs": [],
   "source": [
    "val=grp.get_group('PublicTest')"
   ]
  },
  {
   "cell_type": "code",
   "execution_count": 11,
   "metadata": {},
   "outputs": [],
   "source": [
    "train = grp.get_group('Training')"
   ]
  },
  {
   "cell_type": "markdown",
   "metadata": {},
   "source": [
    "### Visualizing the class distribution"
   ]
  },
  {
   "cell_type": "code",
   "execution_count": 15,
   "metadata": {},
   "outputs": [
    {
     "data": {
      "text/plain": [
       "<matplotlib.legend.Legend at 0x20923300e48>"
      ]
     },
     "execution_count": 15,
     "metadata": {},
     "output_type": "execute_result"
    },
    {
     "data": {
      "image/png": "[encoded data removed]",
      "text/plain": [
       "<Figure size 432x288 with 1 Axes>"
      ]
     },
     "metadata": {},
     "output_type": "display_data"
    }
   ],
   "source": [
    "# distribution classes in training data\n",
    "p=train.groupby('emotion')['emotion'].count()\n",
    "plt.xticks(np.arange(1,len(p)*3,3),dict.values())\n",
    "plt.bar(np.arange(1,len(p)*3,3),p,color='rgbymc',align='center', width=0.95)\n",
    "plt.plot([0,25],[p.mean(),p.mean()],'k--',label='mean')\n",
    "plt.legend()"
   ]
  },
  {
   "cell_type": "markdown",
   "metadata": {},
   "source": [
    "Can see the Disgust images are comparatively quite low "
   ]
  },
  {
   "cell_type": "markdown",
   "metadata": {},
   "source": [
    "# Pre-processing "
   ]
  },
  {
   "cell_type": "code",
   "execution_count": 16,
   "metadata": {},
   "outputs": [],
   "source": [
    "test = test.reset_index()\n",
    "test = test.drop(['Usage','index'],axis=1)"
   ]
  },
  {
   "cell_type": "code",
   "execution_count": 17,
   "metadata": {},
   "outputs": [],
   "source": [
    "val = val.reset_index()\n",
    "val = val.drop(['Usage','index'],axis=1)\n",
    "train = train.reset_index()\n",
    "train = train.drop(['Usage','index'],axis=1)"
   ]
  },
  {
   "cell_type": "markdown",
   "metadata": {},
   "source": [
    "Randomly shuffling"
   ]
  },
  {
   "cell_type": "code",
   "execution_count": 18,
   "metadata": {},
   "outputs": [],
   "source": [
    "train = train.sample(frac=1).reset_index(drop=True)\n",
    "val = val.sample(frac=1).reset_index(drop=True)\n",
    "test = test.sample(frac=1).reset_index(drop=True)"
   ]
  },
  {
   "cell_type": "code",
   "execution_count": 19,
   "metadata": {},
   "outputs": [],
   "source": [
    "p= []\n",
    "for n,i in enumerate(test['pixels']):\n",
    "    temp = list(map(int, i.split()))\n",
    "    p.append(np.array(temp))\n",
    "x_test = np.array(p) "
   ]
  },
  {
   "cell_type": "code",
   "execution_count": 20,
   "metadata": {},
   "outputs": [],
   "source": [
    "p= []\n",
    "for n,i in enumerate(train['pixels']):\n",
    "    temp = list(map(int, i.split()))\n",
    "    p.append(np.array(temp))\n",
    "x_train = np.array(p) \n",
    "p= []\n",
    "for n,i in enumerate(val['pixels']):\n",
    "    temp = list(map(int, i.split()))\n",
    "    p.append(np.array(temp))\n",
    "x_val = np.array(p) "
   ]
  },
  {
   "cell_type": "code",
   "execution_count": 21,
   "metadata": {},
   "outputs": [],
   "source": [
    "y_test, y_val, y_train = test['emotion'].values, val['emotion'].values, train['emotion'].values"
   ]
  },
  {
   "cell_type": "markdown",
   "metadata": {},
   "source": [
    "Visualizing some images"
   ]
  },
  {
   "cell_type": "code",
   "execution_count": 25,
   "metadata": {},
   "outputs": [
    {
     "data": {
      "image/png": "[encoded data removed]",
      "text/plain": [
       "<Figure size 432x288 with 1 Axes>"
      ]
     },
     "metadata": {},
     "output_type": "display_data"
    },
    {
     "name": "stdout",
     "output_type": "stream",
     "text": [
      "Surprise\n"
     ]
    }
   ],
   "source": [
    "#set accordingly\n",
    "index = 457\n",
    "plt.imshow(x_train[457].reshape(48,48),cmap='gray')\n",
    "plt.show()\n",
    "print(dict[y_train[457]])"
   ]
  },
  {
   "cell_type": "markdown",
   "metadata": {},
   "source": [
    " * This data augmentation did not helped me but one can test by uncommenting below lines\n",
    " * Also due to low quality of images zooming in, shifting scene and all other preprocessing step become difficult to implement "
   ]
  },
  {
   "cell_type": "code",
   "execution_count": 26,
   "metadata": {},
   "outputs": [],
   "source": [
    "# # Finding all indexes with class label 1 i.e, disgust \n",
    "# ind = []\n",
    "# for n, i in enumerate(y_train):\n",
    "#     if i == 1:\n",
    "#         ind.append(n)\n",
    "\n",
    "# x_temp = []\n",
    "# y_temp = []\n",
    "# for i in ind:\n",
    "#     temp = x_train[i]\n",
    "#     t= cv2.flip(temp.reshape(48,48),1)\n",
    "#     x_temp.append(t.reshape(48*48))\n",
    "#     y_temp.append(y_train[i])\n",
    "    \n",
    "# # Appending flipped images    \n",
    "# x_train = np.vstack((x_train,np.array(x_temp)))\n",
    "# y_train = np.hstack((y_train,np.array(y_temp)))\n"
   ]
  },
  {
   "cell_type": "code",
   "execution_count": 27,
   "metadata": {},
   "outputs": [],
   "source": [
    "def batch_generator(bs,x,y=None,test=False):\n",
    "    for i in range(0,len(x),bs):\n",
    "        if test:\n",
    "            yield x[i:i+bs]\n",
    "        else:\n",
    "            yield x[i:i+bs], y[i:i+bs]"
   ]
  },
  {
   "cell_type": "code",
   "execution_count": 28,
   "metadata": {},
   "outputs": [],
   "source": [
    "import tensorflow as tf"
   ]
  },
  {
   "cell_type": "code",
   "execution_count": 29,
   "metadata": {},
   "outputs": [],
   "source": [
    "# normalizing the data\n",
    "x_train = ((x_train/255.0) - 0.5)*2\n",
    "x_val = ((x_val/255.0) - 0.5)*2\n",
    "x_test = ((x_test/255.0) - 0.5)*2"
   ]
  },
  {
   "cell_type": "markdown",
   "metadata": {},
   "source": [
    "## Play with the hyperparametters"
   ]
  },
  {
   "cell_type": "code",
   "execution_count": 30,
   "metadata": {},
   "outputs": [],
   "source": [
    "classes = 7\n",
    "epochs = 230\n",
    "bs = 128"
   ]
  },
  {
   "cell_type": "markdown",
   "metadata": {},
   "source": [
    "## Model architecture"
   ]
  },
  {
   "cell_type": "code",
   "execution_count": 31,
   "metadata": {},
   "outputs": [],
   "source": [
    "keep_prob = tf.placeholder(tf.float32,name='keep_prob')\n",
    "tf_x =  tf.placeholder(dtype= tf.float32,shape = [None, 48,48,1],name='tf_x')\n",
    "tf_y = tf.placeholder(dtype=tf.int32,shape=[None,],name='tf_y')\n",
    "\n",
    "# layer 1\n",
    "conv1 = tf.layers.conv2d(name='conv1',inputs = tf_x,filters = 64,kernel_size= (5,5),padding='same',kernel_initializer=tf.contrib.layers.xavier_initializer_conv2d(),kernel_regularizer= tf.contrib.layers.l2_regularizer(scale=0.1))\n",
    "bn1 = tf.layers.batch_normalization(name='bn1',inputs = conv1)\n",
    "bn1_ = tf.nn.relu(bn1)\n",
    "pool1 = tf.layers.max_pooling2d(name='pool1',inputs=bn1_, pool_size=(2,2), strides=2)\n",
    "\n",
    "#layer 2 \n",
    "conv2 = tf.layers.conv2d(name='conv2',inputs = pool1,filters = 128 ,kernel_size= (3,3),padding='same',kernel_initializer=tf.contrib.layers.xavier_initializer_conv2d(),kernel_regularizer= tf.contrib.layers.l2_regularizer(scale=0.1))\n",
    "bn2 = tf.layers.batch_normalization(name='bn2',inputs = conv2)\n",
    "bn2_ = tf.nn.relu(bn2)\n",
    "pool2 = tf.layers.max_pooling2d(name='pool2',inputs=bn2_, pool_size=[2, 2], strides=2)\n",
    "\n",
    "# layer 3 \n",
    "conv3 = tf.layers.conv2d(name='conv3',inputs = pool2,filters = 512 ,kernel_size= (3,3),padding='same',kernel_initializer=tf.contrib.layers.xavier_initializer_conv2d(),kernel_regularizer= tf.contrib.layers.l2_regularizer(scale=0.1))\n",
    "bn3 = tf.layers.batch_normalization(name='bn3',inputs = conv3)\n",
    "bn3_ = tf.nn.relu(bn3)\n",
    "pool3 = tf.layers.max_pooling2d(name='pool3',inputs=bn3_, pool_size=[2, 2], strides=2)\n",
    "\n",
    "#flattening\n",
    "pool3_flat = tf.reshape(pool3, [-1,6*6*512],name='pool3_flat')\n",
    "\n",
    "# fc layer 1 \n",
    "dense1 = tf.layers.dense(inputs=pool3_flat, units=256, activation=tf.nn.relu,kernel_initializer=tf.contrib.layers.xavier_initializer_conv2d(),name='dense1')\n",
    "dense1_ = tf.nn.dropout(dense1, keep_prob)\n",
    "\n",
    "# fc layer 2\n",
    "dense2 = tf.layers.dense(inputs=dense1_, units=512, activation=tf.nn.relu,kernel_initializer=tf.contrib.layers.xavier_initializer_conv2d(),name='dense2')\n",
    "dense2_ = tf.nn.dropout(dense2, keep_prob)\n",
    "\n",
    "logits = tf.layers.dense(inputs=dense2_, units=classes,activation=tf.nn.sigmoid,name='logits')\n",
    "y_hot = tf.one_hot(indices=tf_y,depth=classes,dtype = tf.int32,name='y_hot')\n",
    "loss = tf.losses.softmax_cross_entropy(y_hot, logits=logits)\n",
    "optimizer  = tf.train.AdamOptimizer(1e-4).minimize(loss)\n",
    "predict = tf.argmax(logits, 1)\n"
   ]
  },
  {
   "cell_type": "code",
   "execution_count": 32,
   "metadata": {},
   "outputs": [],
   "source": [
    "cp = tf.equal(predict,tf.argmax(y_hot, 1))\n",
    "accuracy = tf.reduce_mean(tf.cast(cp, tf.float32))"
   ]
  },
  {
   "cell_type": "markdown",
   "metadata": {},
   "source": [
    "## Training"
   ]
  },
  {
   "cell_type": "code",
   "execution_count": 33,
   "metadata": {
    "collapsed": true
   },
   "outputs": [
    {
     "ename": "KeyboardInterrupt",
     "evalue": "",
     "output_type": "error",
     "traceback": [
      "\u001b[1;31m---------------------------------------------------------------------------\u001b[0m",
      "\u001b[1;31mKeyboardInterrupt\u001b[0m                         Traceback (most recent call last)",
      "\u001b[1;32m<ipython-input-33-3a21e3ed39c4>\u001b[0m in \u001b[0;36m<module>\u001b[1;34m()\u001b[0m\n\u001b[0;32m      1\u001b[0m \u001b[0msaver\u001b[0m \u001b[1;33m=\u001b[0m \u001b[0mtf\u001b[0m\u001b[1;33m.\u001b[0m\u001b[0mtrain\u001b[0m\u001b[1;33m.\u001b[0m\u001b[0mSaver\u001b[0m\u001b[1;33m(\u001b[0m\u001b[1;33m)\u001b[0m\u001b[1;33m\u001b[0m\u001b[0m\n\u001b[1;32m----> 2\u001b[1;33m \u001b[1;32mwith\u001b[0m \u001b[0mtf\u001b[0m\u001b[1;33m.\u001b[0m\u001b[0mSession\u001b[0m\u001b[1;33m(\u001b[0m\u001b[1;33m)\u001b[0m \u001b[1;32mas\u001b[0m \u001b[0msess\u001b[0m\u001b[1;33m:\u001b[0m\u001b[1;33m\u001b[0m\u001b[0m\n\u001b[0m\u001b[0;32m      3\u001b[0m     \u001b[0msess\u001b[0m\u001b[1;33m.\u001b[0m\u001b[0mrun\u001b[0m\u001b[1;33m(\u001b[0m\u001b[0mtf\u001b[0m\u001b[1;33m.\u001b[0m\u001b[0mglobal_variables_initializer\u001b[0m\u001b[1;33m(\u001b[0m\u001b[1;33m)\u001b[0m\u001b[1;33m)\u001b[0m\u001b[1;33m\u001b[0m\u001b[0m\n\u001b[0;32m      4\u001b[0m     \u001b[1;31m##can use below line to retrain from previous checkpoint\u001b[0m\u001b[1;33m\u001b[0m\u001b[1;33m\u001b[0m\u001b[0m\n\u001b[0;32m      5\u001b[0m    \u001b[1;31m#saver.restore(sess,tf.train.latest_checkpoint('./model/'))\u001b[0m\u001b[1;33m\u001b[0m\u001b[1;33m\u001b[0m\u001b[0m\n",
      "\u001b[1;32mc:\\users\\shankul\\appdata\\local\\programs\\python\\python35\\lib\\site-packages\\tensorflow\\python\\client\\session.py\u001b[0m in \u001b[0;36m__init__\u001b[1;34m(self, target, graph, config)\u001b[0m\n\u001b[0;32m   1558\u001b[0m \u001b[1;33m\u001b[0m\u001b[0m\n\u001b[0;32m   1559\u001b[0m     \"\"\"\n\u001b[1;32m-> 1560\u001b[1;33m     \u001b[0msuper\u001b[0m\u001b[1;33m(\u001b[0m\u001b[0mSession\u001b[0m\u001b[1;33m,\u001b[0m \u001b[0mself\u001b[0m\u001b[1;33m)\u001b[0m\u001b[1;33m.\u001b[0m\u001b[0m__init__\u001b[0m\u001b[1;33m(\u001b[0m\u001b[0mtarget\u001b[0m\u001b[1;33m,\u001b[0m \u001b[0mgraph\u001b[0m\u001b[1;33m,\u001b[0m \u001b[0mconfig\u001b[0m\u001b[1;33m=\u001b[0m\u001b[0mconfig\u001b[0m\u001b[1;33m)\u001b[0m\u001b[1;33m\u001b[0m\u001b[0m\n\u001b[0m\u001b[0;32m   1561\u001b[0m     \u001b[1;31m# NOTE(mrry): Create these on first `__enter__` to avoid a reference cycle.\u001b[0m\u001b[1;33m\u001b[0m\u001b[1;33m\u001b[0m\u001b[0m\n\u001b[0;32m   1562\u001b[0m     \u001b[0mself\u001b[0m\u001b[1;33m.\u001b[0m\u001b[0m_default_graph_context_manager\u001b[0m \u001b[1;33m=\u001b[0m \u001b[1;32mNone\u001b[0m\u001b[1;33m\u001b[0m\u001b[0m\n",
      "\u001b[1;32mc:\\users\\shankul\\appdata\\local\\programs\\python\\python35\\lib\\site-packages\\tensorflow\\python\\client\\session.py\u001b[0m in \u001b[0;36m__init__\u001b[1;34m(self, target, graph, config)\u001b[0m\n\u001b[0;32m    631\u001b[0m       \u001b[1;32mif\u001b[0m \u001b[0mself\u001b[0m\u001b[1;33m.\u001b[0m\u001b[0m_created_with_new_api\u001b[0m\u001b[1;33m:\u001b[0m\u001b[1;33m\u001b[0m\u001b[0m\n\u001b[0;32m    632\u001b[0m         \u001b[1;31m# pylint: disable=protected-access\u001b[0m\u001b[1;33m\u001b[0m\u001b[1;33m\u001b[0m\u001b[0m\n\u001b[1;32m--> 633\u001b[1;33m         \u001b[0mself\u001b[0m\u001b[1;33m.\u001b[0m\u001b[0m_session\u001b[0m \u001b[1;33m=\u001b[0m \u001b[0mtf_session\u001b[0m\u001b[1;33m.\u001b[0m\u001b[0mTF_NewSession\u001b[0m\u001b[1;33m(\u001b[0m\u001b[0mself\u001b[0m\u001b[1;33m.\u001b[0m\u001b[0m_graph\u001b[0m\u001b[1;33m.\u001b[0m\u001b[0m_c_graph\u001b[0m\u001b[1;33m,\u001b[0m \u001b[0mopts\u001b[0m\u001b[1;33m)\u001b[0m\u001b[1;33m\u001b[0m\u001b[0m\n\u001b[0m\u001b[0;32m    634\u001b[0m         \u001b[1;31m# pylint: enable=protected-access\u001b[0m\u001b[1;33m\u001b[0m\u001b[1;33m\u001b[0m\u001b[0m\n\u001b[0;32m    635\u001b[0m       \u001b[1;32melse\u001b[0m\u001b[1;33m:\u001b[0m\u001b[1;33m\u001b[0m\u001b[0m\n",
      "\u001b[1;31mKeyboardInterrupt\u001b[0m: "
     ]
    }
   ],
   "source": [
    "saver = tf.train.Saver()\n",
    "with tf.Session() as sess:\n",
    "    sess.run(tf.global_variables_initializer())\n",
    "    ##can use below line to retrain from previous checkpoint\n",
    "   #saver.restore(sess,tf.train.latest_checkpoint('./model/'))\n",
    "    for i in range(epochs):\n",
    "        losses = []\n",
    "        for batch_x, batch_y in batch_generator(bs,x_train, y_train):\n",
    "            batch_x = batch_x.reshape(-1,48,48,1)\n",
    "            _, lossy = sess.run([optimizer, loss],feed_dict = {tf_x:batch_x,tf_y :batch_y,keep_prob:0.25})\n",
    "            losses.append(lossy)\n",
    "        acc = []\n",
    "        for batch_x, batch_y in batch_generator(bs,x_val, y_val ):\n",
    "            batch_x = batch_x.reshape(-1,48,48,1)\n",
    "            acc.append(sess.run(accuracy, feed_dict={tf_x:batch_x, tf_y:batch_y,keep_prob :1.0}))\n",
    "        print(\"Accuracy (validation)- \",sum(acc)/float(len(acc)))\n",
    "        print('Loss in step {} is - {}'.format(i,np.average(losses)))\n",
    "        if (i+1) % 5 == 0 :\n",
    "            saver.save(sess,'model/sentiment-{}.ckpt'.format(i))"
   ]
  },
  {
   "cell_type": "code",
   "execution_count": 38,
   "metadata": {},
   "outputs": [
    {
     "name": "stdout",
     "output_type": "stream",
     "text": [
      "INFO:tensorflow:Restoring parameters from ./model/sentiment-229.ckpt\n",
      "Accuracy (train)-  0.9575375374158224\n"
     ]
    }
   ],
   "source": [
    "# measuring training accuracies\n",
    "with tf.Session() as sess:\n",
    "    saver.restore(sess,tf.train.latest_checkpoint('./model/'))\n",
    "    acc=[]\n",
    "    for batch_x, batch_y in batch_generator(bs,x_train, y_train):\n",
    "        batch_x = batch_x.reshape(-1,48,48,1)\n",
    "        acc.append(sess.run(accuracy, feed_dict={tf_x:batch_x, tf_y:batch_y,keep_prob :1.0}))\n",
    "    print(\"Accuracy (train)- \",sum(acc)/float(len(acc))) "
   ]
  },
  {
   "cell_type": "code",
   "execution_count": 35,
   "metadata": {},
   "outputs": [
    {
     "name": "stdout",
     "output_type": "stream",
     "text": [
      "INFO:tensorflow:Restoring parameters from ./model/sentiment-229.ckpt\n"
     ]
    }
   ],
   "source": [
    "# getting the predictions\n",
    "ans = []\n",
    "with tf.Session() as sess:\n",
    "    saver.restore(sess,tf.train.latest_checkpoint('./model/'))\n",
    "    acc=[]\n",
    "    for batch_x, batch_y in batch_generator(bs,x_test, y_test):\n",
    "        batch_x = batch_x.reshape(-1,48,48,1)\n",
    "        ans.append(sess.run(predict, feed_dict={tf_x:batch_x,keep_prob :1.0}))\n"
   ]
  },
  {
   "cell_type": "code",
   "execution_count": 36,
   "metadata": {},
   "outputs": [],
   "source": [
    "from sklearn.metrics import confusion_matrix\n",
    "ans=np.concatenate(ans)\n",
    "m=confusion_matrix(y_test,ans)"
   ]
  },
  {
   "cell_type": "markdown",
   "metadata": {},
   "source": [
    "## Test accuracy"
   ]
  },
  {
   "cell_type": "code",
   "execution_count": 37,
   "metadata": {},
   "outputs": [
    {
     "data": {
      "text/plain": [
       "0.6065756478127612"
      ]
     },
     "execution_count": 37,
     "metadata": {},
     "output_type": "execute_result"
    }
   ],
   "source": [
    "(ans == y_test).sum()/len(y_test)"
   ]
  },
  {
   "cell_type": "markdown",
   "metadata": {},
   "source": [
    "## Confusion matrix"
   ]
  },
  {
   "cell_type": "code",
   "execution_count": 39,
   "metadata": {},
   "outputs": [
    {
     "data": {
      "text/plain": [
       "<matplotlib.axes._subplots.AxesSubplot at 0x2095bf7b1d0>"
      ]
     },
     "execution_count": 39,
     "metadata": {},
     "output_type": "execute_result"
    },
    {
     "data": {
      "image/png": "[encoded data removed]",
      "text/plain": [
       "<Figure size 1080x720 with 2 Axes>"
      ]
     },
     "metadata": {},
     "output_type": "display_data"
    }
   ],
   "source": [
    "import seaborn as sns\n",
    "df_cm = pd.DataFrame(m, dict.values(), dict.values())\n",
    "plt.figure(figsize = (15,10))\n",
    "sns.heatmap(df_cm, annot=True,fmt='g')"
   ]
  },
  {
   "cell_type": "markdown",
   "metadata": {},
   "source": [
    "## Note- \n",
    "- Disgust class is completely ignored\n",
    "- Neutral and sad is assumed to be similar\n",
    "- One can get more data related to these classes and retrain the model to get more precise model"
   ]
  }
 ],
 "metadata": {
  "kernelspec": {
   "display_name": "Python 3",
   "language": "python",
   "name": "python3"
  },
  "language_info": {
   "codemirror_mode": {
    "name": "ipython",
    "version": 3
   },
   "file_extension": ".py",
   "mimetype": "text/x-python",
   "name": "python",
   "nbconvert_exporter": "python",
   "pygments_lexer": "ipython3",
   "version": "3.5.0"
  }
 },
 "nbformat": 4,
 "nbformat_minor": 2
}
